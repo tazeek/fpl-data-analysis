{
 "cells": [
  {
   "cell_type": "code",
   "execution_count": null,
   "metadata": {},
   "outputs": [],
   "source": [
    "from GameweekStats import GameweekStats\n",
    "\n",
    "import plotly.express as px\n",
    "import plotly.graph_objects as go\n",
    "\n",
    "import requests"
   ]
  },
  {
   "cell_type": "code",
   "execution_count": null,
   "metadata": {},
   "outputs": [],
   "source": [
    "# Credits: https://towardsdatascience.com/fantasy-premier-league-value-analysis-python-tutorial-using-the-fpl-api-8031edfe9910\n",
    "\n",
    "url = 'https://fantasy.premierleague.com/api/bootstrap-static/'\n",
    "\n",
    "r = requests.get(url)\n",
    "json = r.json()\n",
    "json.keys()"
   ]
  },
  {
   "cell_type": "markdown",
   "metadata": {},
   "source": [
    "# Loop through events key\n",
    "\n",
    "- Display the column names\n",
    "- Filter column names that will be useful\n",
    "- Use data until the most recent gameweek\n",
    "- Plot the highest and average scores"
   ]
  },
  {
   "cell_type": "code",
   "execution_count": null,
   "metadata": {},
   "outputs": [],
   "source": [
    "useful_columns = ['id','average_entry_score','highest_score','chip_plays','most_selected',\n",
    "                  'most_transferred_in','top_element','top_element_info','transfers_made',\n",
    "                  'most_captained','most_vice_captained','is_current']\n",
    "\n",
    "gameweek_stats = GameweekStats(json['events'], useful_columns)\n",
    "gameweek_stats.filter()"
   ]
  },
  {
   "cell_type": "code",
   "execution_count": null,
   "metadata": {},
   "outputs": [],
   "source": [
    "# Check the scores \n",
    "scores_df = gameweek_stats.fetch_scores()\n",
    "\n",
    "fig = go.Figure()\n",
    "\n",
    "fig.add_trace(go.Scatter(x=[1,2,3,4,5], y=scores_df['highest_score'],\n",
    "                    mode='lines+markers',\n",
    "                    name='Highest Score'))\n",
    "\n",
    "fig.add_trace(go.Scatter(x=[1,2,3,4,5], y=scores_df['average_entry_score'],\n",
    "                    mode='lines+markers',\n",
    "                    name='Average Score'))\n",
    "\n",
    "fig.update_layout(title=\"Gameweek History Scores\")\n",
    "\n",
    "fig.update_xaxes(\n",
    "        title_text = \"Gameweek\",\n",
    "        tickangle = 45,\n",
    "        nticks = gameweek_stats.total_gameweeks() + 1,\n",
    "        title_standoff = 25)\n",
    "\n",
    "\n",
    "fig.update_yaxes(\n",
    "        title_text = \"Scores\",\n",
    "        title_standoff = 25)\n",
    "\n",
    "fig.show()\n"
   ]
  }
 ],
 "metadata": {
  "kernelspec": {
   "display_name": "Python 3",
   "language": "python",
   "name": "python3"
  },
  "language_info": {
   "codemirror_mode": {
    "name": "ipython",
    "version": 3
   },
   "file_extension": ".py",
   "mimetype": "text/x-python",
   "name": "python",
   "nbconvert_exporter": "python",
   "pygments_lexer": "ipython3",
   "version": "3.7.6"
  }
 },
 "nbformat": 4,
 "nbformat_minor": 4
}
