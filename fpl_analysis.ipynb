{
 "cells": [
  {
   "cell_type": "code",
   "execution_count": 1,
   "metadata": {},
   "outputs": [],
   "source": [
    "import requests\n",
    "import pandas as pd\n",
    "import numpy as np"
   ]
  },
  {
   "cell_type": "code",
   "execution_count": 2,
   "metadata": {},
   "outputs": [
    {
     "data": {
      "text/plain": [
       "dict_keys(['events', 'game_settings', 'phases', 'teams', 'total_players', 'elements', 'element_stats', 'element_types'])"
      ]
     },
     "execution_count": 2,
     "metadata": {},
     "output_type": "execute_result"
    }
   ],
   "source": [
    "# Credits: https://towardsdatascience.com/fantasy-premier-league-value-analysis-python-tutorial-using-the-fpl-api-8031edfe9910\n",
    "\n",
    "url = 'https://fantasy.premierleague.com/api/bootstrap-static/'\n",
    "\n",
    "r = requests.get(url)\n",
    "json = r.json()\n",
    "json.keys()"
   ]
  },
  {
   "cell_type": "markdown",
   "metadata": {},
   "source": [
    "# Loop through events key\n",
    "\n",
    "- Display the column names\n",
    "- Filter column names that will be useful"
   ]
  },
  {
   "cell_type": "code",
   "execution_count": 4,
   "metadata": {},
   "outputs": [
    {
     "name": "stdout",
     "output_type": "stream",
     "text": [
      "Index(['id', 'name', 'deadline_time', 'average_entry_score', 'finished',\n",
      "       'data_checked', 'highest_scoring_entry', 'deadline_time_epoch',\n",
      "       'deadline_time_game_offset', 'highest_score', 'is_previous',\n",
      "       'is_current', 'is_next', 'chip_plays', 'most_selected',\n",
      "       'most_transferred_in', 'top_element', 'top_element_info',\n",
      "       'transfers_made', 'most_captained', 'most_vice_captained'],\n",
      "      dtype='object')\n"
     ]
    }
   ],
   "source": [
    "events_df = pd.DataFrame(json['events'])\n",
    "print(events_df.columns)"
   ]
  },
  {
   "cell_type": "code",
   "execution_count": 18,
   "metadata": {},
   "outputs": [
    {
     "name": "stdout",
     "output_type": "stream",
     "text": [
      "Index(['name', 'deadline_time_epoch', 'average_entry_score',\n",
      "       'highest_scoring_entry', 'highest_score', 'chip_plays', 'most_selected',\n",
      "       'most_transferred_in', 'top_element', 'top_element_info',\n",
      "       'transfers_made', 'most_captained', 'most_vice_captained'],\n",
      "      dtype='object')\n"
     ]
    }
   ],
   "source": [
    "useful_columns = ['name','deadline_time_epoch','average_entry_score','highest_scoring_entry',\n",
    "                 'highest_score','chip_plays','most_selected','most_transferred_in',\n",
    "                  'top_element','top_element_info','transfers_made','most_captained',\n",
    "                 'most_vice_captained']\n",
    "\n",
    "events_df = events_df[useful_columns]\n",
    "print(events_df.columns)"
   ]
  }
 ],
 "metadata": {
  "kernelspec": {
   "display_name": "Python 3",
   "language": "python",
   "name": "python3"
  },
  "language_info": {
   "codemirror_mode": {
    "name": "ipython",
    "version": 3
   },
   "file_extension": ".py",
   "mimetype": "text/x-python",
   "name": "python",
   "nbconvert_exporter": "python",
   "pygments_lexer": "ipython3",
   "version": "3.7.6"
  }
 },
 "nbformat": 4,
 "nbformat_minor": 4
}
