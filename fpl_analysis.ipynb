{
 "cells": [
  {
   "cell_type": "code",
   "execution_count": null,
   "metadata": {},
   "outputs": [],
   "source": [
    "from GameweekStats import GameweekStats\n",
    "from APIConnector import APIConnector\n",
    "\n",
    "import plotly.graph_objects as go"
   ]
  },
  {
   "cell_type": "code",
   "execution_count": null,
   "metadata": {},
   "outputs": [],
   "source": [
    "# Credits: https://towardsdatascience.com/fantasy-premier-league-value-analysis-python-tutorial-using-the-fpl-api-8031edfe9910\n",
    "\n",
    "api_connector = APIConnector()\n",
    "api_connector.show_all_keys()"
   ]
  },
  {
   "cell_type": "markdown",
   "metadata": {},
   "source": [
    "# Loop through events key\n",
    "\n",
    "- Display the column names\n",
    "- Filter column names that will be useful\n",
    "- Use data until the most recent gameweek\n",
    "- Plot the highest and average scores\n",
    "- Plot the statistics of the different chips played per gameweek\n",
    "- Plot the total transfers made per gameweek"
   ]
  },
  {
   "cell_type": "code",
   "execution_count": null,
   "metadata": {},
   "outputs": [],
   "source": [
    "useful_columns = ['id','average_entry_score','highest_score','chip_plays','most_selected',\n",
    "                  'most_transferred_in','top_element','top_element_info','transfers_made',\n",
    "                  'most_captained','most_vice_captained','is_current']\n",
    "\n",
    "gameweek_stats = GameweekStats(api_connector.get_events_gameweeks())\n",
    "gameweek_stats.filter(useful_columns)"
   ]
  },
  {
   "cell_type": "code",
   "execution_count": null,
   "metadata": {},
   "outputs": [],
   "source": [
    "# Check the scores (highest and average)\n",
    "scores_df = gameweek_stats.fetch_scores()\n",
    "total_gameweeks_played = gameweek_stats.total_gameweeks()\n",
    "\n",
    "fig = go.Figure()\n",
    "\n",
    "fig.add_trace(go.Scatter(x=scores_df['id'], y=scores_df['highest_score'],\n",
    "                    mode='lines+markers',\n",
    "                    name='Highest Score'))\n",
    "\n",
    "fig.add_trace(go.Scatter(x=scores_df['id'], y=scores_df['average_entry_score'],\n",
    "                    mode='lines+markers',\n",
    "                    name='Average Score'))\n",
    "\n",
    "fig.update_layout(title=\"Gameweek History Scores\")\n",
    "\n",
    "fig.update_xaxes(\n",
    "        title_text = \"Gameweek\",\n",
    "        tickangle = 45,\n",
    "        nticks = gameweek_stats.total_gameweeks() + 1,\n",
    "        title_standoff = 25)\n",
    "\n",
    "\n",
    "fig.update_yaxes(\n",
    "        title_text = \"Scores\",\n",
    "        title_standoff = 25)\n",
    "\n",
    "fig.show()\n"
   ]
  },
  {
   "cell_type": "code",
   "execution_count": null,
   "metadata": {},
   "outputs": [],
   "source": [
    "# show the stats of chips played per gameweek\n",
    "\n",
    "chip_stats_df = gameweek_stats.fetch_chip_stats()\n",
    "\n",
    "chip_stats_df.rename(columns = {'bboost':'bench_boost', \n",
    "                                '3xc':'triple_captain'},\n",
    "                                inplace = True)\n",
    "total_gameweeks_played = gameweek_stats.total_gameweeks()\n",
    "\n",
    "x_values = [i for i in range(1, total_gameweeks_played + 1)]\n",
    "\n",
    "fig = go.Figure()\n",
    "\n",
    "for column in chip_stats_df.columns:\n",
    "    \n",
    "\n",
    "    fig.add_trace(go.Scatter(x=x_values, y=chip_stats_df[column],\n",
    "                        mode='lines+markers',\n",
    "                        name=column))\n",
    "\n",
    "fig.update_layout(\n",
    "    title=\"Number of chips played per gameweek\",\n",
    "    hovermode='x unified',\n",
    "    yaxis_tickformat='k'\n",
    ")\n",
    "\n",
    "fig.update_xaxes(\n",
    "        title_text = \"Gameweek\",\n",
    "        tickangle = 45,\n",
    "        nticks = total_gameweeks_played + 1,\n",
    "        title_standoff = 25\n",
    ")\n",
    "\n",
    "fig.update_yaxes(\n",
    "        title_text = \"Total\",\n",
    "        title_standoff = 25\n",
    ")"
   ]
  },
  {
   "cell_type": "code",
   "execution_count": null,
   "metadata": {},
   "outputs": [],
   "source": [
    "# show the transfers made\n",
    "transfers_df = gameweek_stats.fetch_transfers()\n",
    "\n",
    "print(transfers_df)\n",
    "\n",
    "fig = go.Figure()\n",
    "\n",
    "fig.add_trace(go.Scatter(x=transfers_df['id'], y=transfers_df['transfers_made'],\n",
    "                    mode='lines+markers',\n",
    "                    hovertemplate='Total: %{y}'))\n",
    "\n",
    "fig.update_layout(\n",
    "    title=\"Total transfers per gameweek\"\n",
    ")\n",
    "\n",
    "fig.update_xaxes(\n",
    "        title_text = \"Gameweek\",\n",
    "        tickangle = 45,\n",
    "        nticks = gameweek_stats.total_gameweeks() + 1,\n",
    "        title_standoff = 25)"
   ]
  }
 ],
 "metadata": {
  "kernelspec": {
   "display_name": "Python 3",
   "language": "python",
   "name": "python3"
  },
  "language_info": {
   "codemirror_mode": {
    "name": "ipython",
    "version": 3
   },
   "file_extension": ".py",
   "mimetype": "text/x-python",
   "name": "python",
   "nbconvert_exporter": "python",
   "pygments_lexer": "ipython3",
   "version": "3.7.6"
  }
 },
 "nbformat": 4,
 "nbformat_minor": 4
}
