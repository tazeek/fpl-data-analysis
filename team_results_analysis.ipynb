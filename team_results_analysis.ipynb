{
 "cells": [
  {
   "cell_type": "code",
   "execution_count": 1,
   "metadata": {},
   "outputs": [],
   "source": [
    "from Results import Results\n",
    "from APIConnector import APIConnector\n",
    "from Teams import Teams"
   ]
  },
  {
   "cell_type": "code",
   "execution_count": 2,
   "metadata": {},
   "outputs": [],
   "source": [
    "api_connector = APIConnector()\n",
    "results_obj = Results()\n",
    "\n",
    "team_info = Teams(api_connector.get_teams_information())"
   ]
  },
  {
   "cell_type": "code",
   "execution_count": 3,
   "metadata": {},
   "outputs": [],
   "source": [
    "filter_columns = ['code','finished_provisional','id','kickoff_time',\n",
    "                'minutes','provisional_start_time','started','pulse_id']\n",
    "\n",
    "results_obj.drop_columns(filter_columns)\n",
    "\n",
    "filter_columns = ['id','name','short_name']\n",
    "\n",
    "team_info.filter_columns(filter_columns)"
   ]
  },
  {
   "cell_type": "code",
   "execution_count": 5,
   "metadata": {},
   "outputs": [
    {
     "name": "stdout",
     "output_type": "stream",
     "text": [
      "   event  finished team_a  team_a_score team_h  team_h_score  \\\n",
      "0    NaN     False    NaN           NaN    NaN           NaN   \n",
      "1    NaN     False    NaN           NaN    NaN           NaN   \n",
      "2    1.0      True    NaN           3.0    NaN           0.0   \n",
      "3    1.0      True    NaN           0.0    NaN           1.0   \n",
      "4    1.0      True    NaN           3.0    NaN           4.0   \n",
      "\n",
      "                                               stats  team_h_difficulty  \\\n",
      "0                                                 []                  4   \n",
      "1                                                 []                  3   \n",
      "2  [{'identifier': 'goals_scored', 'a': [{'value'...                  4   \n",
      "3  [{'identifier': 'goals_scored', 'a': [], 'h': ...                  2   \n",
      "4  [{'identifier': 'goals_scored', 'a': [{'value'...                  2   \n",
      "\n",
      "   team_a_difficulty  \n",
      "0                  2  \n",
      "1                  5  \n",
      "2                  2  \n",
      "3                  3  \n",
      "4                  5  \n"
     ]
    }
   ],
   "source": [
    "team_df = team_info.return_dataframe_obj()\n",
    "\n",
    "results_obj.map_teams(team_df)\n",
    "print(results_obj.results_matches_df.head(5))"
   ]
  }
 ],
 "metadata": {
  "kernelspec": {
   "display_name": "Python 3",
   "language": "python",
   "name": "python3"
  },
  "language_info": {
   "codemirror_mode": {
    "name": "ipython",
    "version": 3
   },
   "file_extension": ".py",
   "mimetype": "text/x-python",
   "name": "python",
   "nbconvert_exporter": "python",
   "pygments_lexer": "ipython3",
   "version": "3.7.6"
  }
 },
 "nbformat": 4,
 "nbformat_minor": 4
}
