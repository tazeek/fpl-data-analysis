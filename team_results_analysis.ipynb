{
 "cells": [
  {
   "cell_type": "code",
   "execution_count": 1,
   "metadata": {},
   "outputs": [],
   "source": [
    "from Results import Results\n",
    "from APIConnector import APIConnector\n",
    "from Teams import Teams"
   ]
  },
  {
   "cell_type": "code",
   "execution_count": 2,
   "metadata": {},
   "outputs": [],
   "source": [
    "api_connector = APIConnector()\n",
    "results_obj = Results()\n",
    "\n",
    "team_info = Teams(api_connector.get_teams_information())"
   ]
  },
  {
   "cell_type": "code",
   "execution_count": 3,
   "metadata": {},
   "outputs": [],
   "source": [
    "filter_columns = ['code','finished_provisional','id','kickoff_time',\n",
    "                'minutes','provisional_start_time','started','pulse_id']\n",
    "\n",
    "results_obj.drop_columns(filter_columns)\n",
    "\n",
    "filter_columns = ['id','name','short_name']\n",
    "\n",
    "team_info.filter_columns(filter_columns)"
   ]
  },
  {
   "cell_type": "code",
   "execution_count": 4,
   "metadata": {},
   "outputs": [],
   "source": [
    "team_df = team_info.return_dataframe_obj()\n",
    "\n",
    "results_obj.map_teams(team_df)"
   ]
  },
  {
   "cell_type": "code",
   "execution_count": 21,
   "metadata": {},
   "outputs": [
    {
     "name": "stdout",
     "output_type": "stream",
     "text": [
      "    team_h_score  team_a_score  total_goals_scored\n",
      "2            0.0           3.0                 3.0\n",
      "3            1.0           0.0                 1.0\n",
      "4            4.0           3.0                 7.0\n",
      "5            0.0           2.0                 2.0\n",
      "6            0.0           3.0                 3.0\n",
      "..           ...           ...                 ...\n",
      "59           0.0           1.0                 1.0\n",
      "60           2.0           0.0                 2.0\n",
      "61           0.0           1.0                 1.0\n",
      "62           0.0           3.0                 3.0\n",
      "63           2.0           1.0                 3.0\n",
      "\n",
      "[62 rows x 3 columns]\n"
     ]
    }
   ],
   "source": [
    "#goal_stats_df = results_obj.prepare_goal_stats()\n",
    "goals_df = results_obj.prepare_goal_stats()\n",
    "print(goals_df)"
   ]
  }
 ],
 "metadata": {
  "kernelspec": {
   "display_name": "Python 3",
   "language": "python",
   "name": "python3"
  },
  "language_info": {
   "codemirror_mode": {
    "name": "ipython",
    "version": 3
   },
   "file_extension": ".py",
   "mimetype": "text/x-python",
   "name": "python",
   "nbconvert_exporter": "python",
   "pygments_lexer": "ipython3",
   "version": "3.7.6"
  }
 },
 "nbformat": 4,
 "nbformat_minor": 4
}
