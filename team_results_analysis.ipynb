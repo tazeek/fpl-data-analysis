{
 "cells": [
  {
   "cell_type": "code",
   "execution_count": null,
   "metadata": {},
   "outputs": [],
   "source": [
    "from Results import Results\n",
    "from APIConnector import APIConnector\n",
    "from Teams import Teams\n",
    "\n",
    "import plotly.graph_objects as go"
   ]
  },
  {
   "cell_type": "code",
   "execution_count": null,
   "metadata": {},
   "outputs": [],
   "source": [
    "api_connector = APIConnector()\n",
    "results_obj = Results()\n",
    "\n",
    "team_info = Teams(api_connector.get_teams_information())"
   ]
  },
  {
   "cell_type": "code",
   "execution_count": null,
   "metadata": {},
   "outputs": [],
   "source": [
    "filter_columns = ['code','finished_provisional','id','kickoff_time',\n",
    "                'minutes','provisional_start_time','started','pulse_id']\n",
    "\n",
    "results_obj.drop_columns(filter_columns)\n",
    "\n",
    "filter_columns = ['id','name','short_name']\n",
    "\n",
    "team_info.filter_columns(filter_columns)"
   ]
  },
  {
   "cell_type": "code",
   "execution_count": null,
   "metadata": {},
   "outputs": [],
   "source": [
    "team_df = team_info.return_dataframe_obj()\n",
    "\n",
    "results_obj.map_teams(team_df)"
   ]
  },
  {
   "cell_type": "code",
   "execution_count": null,
   "metadata": {},
   "outputs": [],
   "source": [
    "goals_df = results_obj.prepare_goal_stats()\n",
    "\n",
    "x_values = [i for i in range(1, len(goals_df) + 1)]\n",
    "\n",
    "fig = go.Figure()\n",
    "\n",
    "goals_df.rename(columns = {\n",
    "        'team_h_score':'home_team', \n",
    "        'team_a_score': 'away_team'\n",
    "}, inplace = True) \n",
    "\n",
    "for column in goals_df.columns:\n",
    "\n",
    "    fig.add_trace(go.Scatter(x=x_values, y=goals_df[column],\n",
    "                            mode='lines+markers',\n",
    "                            name=column))\n",
    "\n",
    "fig.update_layout(\n",
    "    title=\"Goals scored per gameweek (Home vs Away)\",\n",
    "    hovermode='x unified',\n",
    "    yaxis_tickformat='k'\n",
    ")\n",
    "\n",
    "fig.update_xaxes(\n",
    "        title_text = \"Gameweek\",\n",
    "        tickangle = 45,\n",
    "        title_standoff = 25\n",
    ")\n",
    "\n",
    "fig.update_yaxes(\n",
    "        title_text = \"Goals scored\",\n",
    "        title_standoff = 25\n",
    ")\n",
    "\n",
    "fig.show()"
   ]
  }
 ],
 "metadata": {
  "kernelspec": {
   "display_name": "Python 3",
   "language": "python",
   "name": "python3"
  },
  "language_info": {
   "codemirror_mode": {
    "name": "ipython",
    "version": 3
   },
   "file_extension": ".py",
   "mimetype": "text/x-python",
   "name": "python",
   "nbconvert_exporter": "python",
   "pygments_lexer": "ipython3",
   "version": "3.7.6"
  }
 },
 "nbformat": 4,
 "nbformat_minor": 4
}
