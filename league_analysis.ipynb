{
 "cells": [
  {
   "cell_type": "code",
   "execution_count": null,
   "metadata": {},
   "outputs": [],
   "source": [
    "from H2HStats import H2HStats\n",
    "from GameweekStats import GameweekStats\n",
    "from APIConnector import APIConnector\n",
    "\n",
    "import plotly.graph_objects as go\n",
    "import numpy as np\n",
    "\n",
    "np.random.seed(0)"
   ]
  },
  {
   "cell_type": "code",
   "execution_count": null,
   "metadata": {},
   "outputs": [],
   "source": [
    "# Example: https://fantasy.premierleague.com/leagues/738779/standings/h\n",
    "\n",
    "h2h_stats = H2HStats(738779)\n",
    "api_connector = APIConnector()\n",
    "gameweek_stats = GameweekStats(api_connector.get_events_gameweeks())"
   ]
  },
  {
   "cell_type": "code",
   "execution_count": null,
   "metadata": {},
   "outputs": [],
   "source": [
    "current_gameweek_index = gameweek_stats.current_gameweek_index()\n",
    "\n",
    "h2h_stats.extract_results(current_gameweek_index)\n",
    "\n",
    "columns_filter = ['entry_1_player_name','entry_1_points','entry_2_player_name',\n",
    "                 'entry_2_points','event']\n",
    "\n",
    "columns_rename = {'entry_1_player_name': 'player_1',\n",
    "                 'entry_1_points': 'player_1_points',\n",
    "                 'entry_2_player_name': 'player_2',\n",
    "                 'entry_2_points':'player_2_points',\n",
    "                 'event':'gameweek'}\n",
    "\n",
    "h2h_stats.filter_columns(columns_filter,columns_rename)"
   ]
  },
  {
   "cell_type": "code",
   "execution_count": null,
   "metadata": {},
   "outputs": [],
   "source": [
    "h2h_points_df = h2h_stats.extract_gameweek_points()\n",
    "total_gameweeks_played = len(h2h_points_df) + 1\n",
    "\n",
    "x_values = [i for i in range(1, total_gameweeks_played)]\n",
    "\n",
    "fig = go.Figure()\n",
    "\n",
    "for column in h2h_points_df.columns:\n",
    "    \n",
    "    fig.add_trace(go.Scatter(x=x_values, y=h2h_points_df[column],\n",
    "                        mode='lines+markers',\n",
    "                        name=column))\n",
    "\n",
    "fig.update_layout(\n",
    "    title=\"Gameweek scores for H2H League\",\n",
    "    hovermode='x unified',\n",
    "    yaxis_tickformat='k'\n",
    ")\n",
    "\n",
    "fig.update_xaxes(\n",
    "        title_text = \"Gameweek\",\n",
    "        tickangle = 45,\n",
    "        nticks = total_gameweeks_played,\n",
    "        title_standoff = 25\n",
    ")\n",
    "\n",
    "fig.update_yaxes(\n",
    "        title_text = \"Score\",\n",
    "        title_standoff = 25\n",
    ")"
   ]
  },
  {
   "cell_type": "code",
   "execution_count": null,
   "metadata": {},
   "outputs": [],
   "source": [
    "h2h_points_df"
   ]
  }
 ],
 "metadata": {
  "kernelspec": {
   "display_name": "Python 3",
   "language": "python",
   "name": "python3"
  },
  "language_info": {
   "codemirror_mode": {
    "name": "ipython",
    "version": 3
   },
   "file_extension": ".py",
   "mimetype": "text/x-python",
   "name": "python",
   "nbconvert_exporter": "python",
   "pygments_lexer": "ipython3",
   "version": "3.7.6"
  }
 },
 "nbformat": 4,
 "nbformat_minor": 4
}
