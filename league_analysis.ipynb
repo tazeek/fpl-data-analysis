{
 "cells": [
  {
   "cell_type": "code",
   "execution_count": 8,
   "metadata": {},
   "outputs": [],
   "source": [
    "from H2HStats import H2HStats"
   ]
  },
  {
   "cell_type": "code",
   "execution_count": 9,
   "metadata": {},
   "outputs": [],
   "source": [
    "# Example: https://fantasy.premierleague.com/leagues/738779/standings/h\n",
    "h2h_stats = H2HStats(738779)\n",
    "\n",
    "h2h_results = h2h_stats.extract_results()"
   ]
  },
  {
   "cell_type": "code",
   "execution_count": 12,
   "metadata": {},
   "outputs": [
    {
     "name": "stdout",
     "output_type": "stream",
     "text": [
      "Index(['id', 'entry_1_entry', 'entry_1_name', 'entry_1_player_name',\n",
      "       'entry_1_points', 'entry_1_win', 'entry_1_draw', 'entry_1_loss',\n",
      "       'entry_1_total', 'entry_2_entry', 'entry_2_name', 'entry_2_player_name',\n",
      "       'entry_2_points', 'entry_2_win', 'entry_2_draw', 'entry_2_loss',\n",
      "       'entry_2_total', 'is_knockout', 'winner', 'seed_value', 'event',\n",
      "       'tiebreak'],\n",
      "      dtype='object')\n"
     ]
    }
   ],
   "source": [
    "print(h2h_results.columns)\n"
   ]
  }
 ],
 "metadata": {
  "kernelspec": {
   "display_name": "Python 3",
   "language": "python",
   "name": "python3"
  },
  "language_info": {
   "codemirror_mode": {
    "name": "ipython",
    "version": 3
   },
   "file_extension": ".py",
   "mimetype": "text/x-python",
   "name": "python",
   "nbconvert_exporter": "python",
   "pygments_lexer": "ipython3",
   "version": "3.7.6"
  }
 },
 "nbformat": 4,
 "nbformat_minor": 4
}
